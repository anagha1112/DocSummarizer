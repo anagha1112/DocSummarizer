{
  "nbformat": 4,
  "nbformat_minor": 0,
  "metadata": {
    "colab": {
      "provenance": [],
      "mount_file_id": "1R0N3JlEnuxpnGL2RVJVB0Ja0IDFWqcOv",
      "authorship_tag": "ABX9TyOqh4KvYdowmuBVoVoJP5Ci",
      "include_colab_link": true
    },
    "kernelspec": {
      "name": "python3",
      "display_name": "Python 3"
    },
    "language_info": {
      "name": "python"
    }
  },
  "cells": [
    {
      "cell_type": "markdown",
      "metadata": {
        "id": "view-in-github",
        "colab_type": "text"
      },
      "source": [
        "<a href=\"https://colab.research.google.com/github/anagha1112/DocSummarizer/blob/main/LegalDocSummarizer.ipynb\" target=\"_parent\"><img src=\"https://colab.research.google.com/assets/colab-badge.svg\" alt=\"Open In Colab\"/></a>"
      ]
    },
    {
      "cell_type": "code",
      "execution_count": null,
      "metadata": {
        "colab": {
          "base_uri": "https://localhost:8080/"
        },
        "id": "UO0p03zAe0an",
        "outputId": "05474706-af8f-414c-c9af-199e7eb3505d"
      },
      "outputs": [
        {
          "output_type": "stream",
          "name": "stdout",
          "text": [
            "Requirement already satisfied: transformers in /usr/local/lib/python3.11/dist-packages (4.49.0)\n",
            "Requirement already satisfied: torch in /usr/local/lib/python3.11/dist-packages (2.6.0+cu124)\n",
            "Requirement already satisfied: PyPDF2 in /usr/local/lib/python3.11/dist-packages (3.0.1)\n",
            "Requirement already satisfied: filelock in /usr/local/lib/python3.11/dist-packages (from transformers) (3.18.0)\n",
            "Requirement already satisfied: huggingface-hub<1.0,>=0.26.0 in /usr/local/lib/python3.11/dist-packages (from transformers) (0.29.3)\n",
            "Requirement already satisfied: numpy>=1.17 in /usr/local/lib/python3.11/dist-packages (from transformers) (2.0.2)\n",
            "Requirement already satisfied: packaging>=20.0 in /usr/local/lib/python3.11/dist-packages (from transformers) (24.2)\n",
            "Requirement already satisfied: pyyaml>=5.1 in /usr/local/lib/python3.11/dist-packages (from transformers) (6.0.2)\n",
            "Requirement already satisfied: regex!=2019.12.17 in /usr/local/lib/python3.11/dist-packages (from transformers) (2024.11.6)\n",
            "Requirement already satisfied: requests in /usr/local/lib/python3.11/dist-packages (from transformers) (2.32.3)\n",
            "Requirement already satisfied: tokenizers<0.22,>=0.21 in /usr/local/lib/python3.11/dist-packages (from transformers) (0.21.1)\n",
            "Requirement already satisfied: safetensors>=0.4.1 in /usr/local/lib/python3.11/dist-packages (from transformers) (0.5.3)\n",
            "Requirement already satisfied: tqdm>=4.27 in /usr/local/lib/python3.11/dist-packages (from transformers) (4.67.1)\n",
            "Requirement already satisfied: typing-extensions>=4.10.0 in /usr/local/lib/python3.11/dist-packages (from torch) (4.12.2)\n",
            "Requirement already satisfied: networkx in /usr/local/lib/python3.11/dist-packages (from torch) (3.4.2)\n",
            "Requirement already satisfied: jinja2 in /usr/local/lib/python3.11/dist-packages (from torch) (3.1.6)\n",
            "Requirement already satisfied: fsspec in /usr/local/lib/python3.11/dist-packages (from torch) (2025.3.0)\n",
            "Requirement already satisfied: nvidia-cuda-nvrtc-cu12==12.4.127 in /usr/local/lib/python3.11/dist-packages (from torch) (12.4.127)\n",
            "Requirement already satisfied: nvidia-cuda-runtime-cu12==12.4.127 in /usr/local/lib/python3.11/dist-packages (from torch) (12.4.127)\n",
            "Requirement already satisfied: nvidia-cuda-cupti-cu12==12.4.127 in /usr/local/lib/python3.11/dist-packages (from torch) (12.4.127)\n",
            "Requirement already satisfied: nvidia-cudnn-cu12==9.1.0.70 in /usr/local/lib/python3.11/dist-packages (from torch) (9.1.0.70)\n",
            "Requirement already satisfied: nvidia-cublas-cu12==12.4.5.8 in /usr/local/lib/python3.11/dist-packages (from torch) (12.4.5.8)\n",
            "Requirement already satisfied: nvidia-cufft-cu12==11.2.1.3 in /usr/local/lib/python3.11/dist-packages (from torch) (11.2.1.3)\n",
            "Requirement already satisfied: nvidia-curand-cu12==10.3.5.147 in /usr/local/lib/python3.11/dist-packages (from torch) (10.3.5.147)\n",
            "Requirement already satisfied: nvidia-cusolver-cu12==11.6.1.9 in /usr/local/lib/python3.11/dist-packages (from torch) (11.6.1.9)\n",
            "Requirement already satisfied: nvidia-cusparse-cu12==12.3.1.170 in /usr/local/lib/python3.11/dist-packages (from torch) (12.3.1.170)\n",
            "Requirement already satisfied: nvidia-cusparselt-cu12==0.6.2 in /usr/local/lib/python3.11/dist-packages (from torch) (0.6.2)\n",
            "Requirement already satisfied: nvidia-nccl-cu12==2.21.5 in /usr/local/lib/python3.11/dist-packages (from torch) (2.21.5)\n",
            "Requirement already satisfied: nvidia-nvtx-cu12==12.4.127 in /usr/local/lib/python3.11/dist-packages (from torch) (12.4.127)\n",
            "Requirement already satisfied: nvidia-nvjitlink-cu12==12.4.127 in /usr/local/lib/python3.11/dist-packages (from torch) (12.4.127)\n",
            "Requirement already satisfied: triton==3.2.0 in /usr/local/lib/python3.11/dist-packages (from torch) (3.2.0)\n",
            "Requirement already satisfied: sympy==1.13.1 in /usr/local/lib/python3.11/dist-packages (from torch) (1.13.1)\n",
            "Requirement already satisfied: mpmath<1.4,>=1.1.0 in /usr/local/lib/python3.11/dist-packages (from sympy==1.13.1->torch) (1.3.0)\n",
            "Requirement already satisfied: MarkupSafe>=2.0 in /usr/local/lib/python3.11/dist-packages (from jinja2->torch) (3.0.2)\n",
            "Requirement already satisfied: charset-normalizer<4,>=2 in /usr/local/lib/python3.11/dist-packages (from requests->transformers) (3.4.1)\n",
            "Requirement already satisfied: idna<4,>=2.5 in /usr/local/lib/python3.11/dist-packages (from requests->transformers) (3.10)\n",
            "Requirement already satisfied: urllib3<3,>=1.21.1 in /usr/local/lib/python3.11/dist-packages (from requests->transformers) (2.3.0)\n",
            "Requirement already satisfied: certifi>=2017.4.17 in /usr/local/lib/python3.11/dist-packages (from requests->transformers) (2025.1.31)\n"
          ]
        }
      ],
      "source": [
        "pip install transformers torch PyPDF2\n"
      ]
    },
    {
      "cell_type": "code",
      "source": [
        "from transformers import pipeline\n",
        "import PyPDF2"
      ],
      "metadata": {
        "id": "eXeuEnYWlJgE"
      },
      "execution_count": null,
      "outputs": []
    },
    {
      "cell_type": "code",
      "source": [
        "\n",
        "# Initialize the Hugging Face summarizer model\n",
        "summarizer = pipeline('summarization', model='facebook/bart-large-cnn')"
      ],
      "metadata": {
        "colab": {
          "base_uri": "https://localhost:8080/"
        },
        "id": "61UhPfyPlNVj",
        "outputId": "35be509b-ef96-4211-81c4-914e76f86822"
      },
      "execution_count": null,
      "outputs": [
        {
          "output_type": "stream",
          "name": "stderr",
          "text": [
            "Device set to use cpu\n"
          ]
        }
      ]
    },
    {
      "cell_type": "code",
      "source": [
        "# Function to extract text from PDF\n",
        "def extract_text_from_pdf(pdf_path):\n",
        "    with open(pdf_path, \"rb\") as file:\n",
        "        reader = PyPDF2.PdfReader(file)\n",
        "        text = \"\"\n",
        "        for page in reader.pages:\n",
        "            text += page.extract_text()\n",
        "        return text"
      ],
      "metadata": {
        "id": "OSeDEJEtlPZS"
      },
      "execution_count": null,
      "outputs": []
    },
    {
      "cell_type": "code",
      "source": [
        "# Function to highlight specific key clauses and format the output with line breaks\n",
        "def highlight_clauses(text):\n",
        "    # Define key terms to highlight\n",
        "    key_terms = ['Confidential Information', 'Services', 'Fees', 'Termination', 'Dispute Resolution', 'Arbitration', 'Amendments', 'Obligations']\n",
        "\n",
        "    # Split the text into individual sentences based on periods\n",
        "    sentences = text.split('. ')\n",
        "\n",
        "    highlighted_text = \"\"\n",
        "\n",
        "    # Highlight clauses by bolding key terms\n",
        "    for sentence in sentences:\n",
        "        for term in key_terms:\n",
        "            if term in sentence:\n",
        "                sentence = sentence.replace(term, f\"**{term}**\")  # Bold the key terms\n",
        "        highlighted_text += sentence + \".\\n\\n\"  # Add new line after each sentence\n",
        "\n",
        "    return highlighted_text"
      ],
      "metadata": {
        "id": "HcvSeJvhlTj4"
      },
      "execution_count": null,
      "outputs": []
    },
    {
      "cell_type": "code",
      "source": [
        "# Main function to summarize the document and highlight key clauses\n",
        "def legal_document_summarizer(pdf_path):\n",
        "    # Extract text from the PDF\n",
        "    extracted_text = extract_text_from_pdf(pdf_path)\n",
        "\n",
        "    # Split the extracted text into smaller chunks\n",
        "    chunk_size = 512 # Adjust this value as needed\n",
        "    chunks = [extracted_text[i:i + chunk_size] for i in range(0, len(extracted_text), chunk_size)]\n",
        "\n",
        "    summarized_text = \"\"\n",
        "    # Summarize each chunk individually\n",
        "    for chunk in chunks:\n",
        "        summary = summarizer(chunk, max_length=150, min_length=30, do_sample=False)\n",
        "        summarized_text += summary[0]['summary_text'] + \" \"\n",
        "\n",
        "    # Highlight key clauses in the summarized text\n",
        "    formatted_summary = highlight_clauses(summarized_text)\n",
        "\n",
        "    return formatted_summary"
      ],
      "metadata": {
        "id": "msM8YZgzlXEz"
      },
      "execution_count": null,
      "outputs": []
    },
    {
      "cell_type": "code",
      "source": [
        "pdf_path = \"/content/drive/My Drive/LEGAL DOCUMENT/LegalDoc (3).pdf\"\n",
        "summary = legal_document_summarizer(pdf_path)"
      ],
      "metadata": {
        "colab": {
          "base_uri": "https://localhost:8080/"
        },
        "id": "MDXHEd9PlaeL",
        "outputId": "f1689908-9a96-4292-a6cf-c2ae025afdcb"
      },
      "execution_count": null,
      "outputs": [
        {
          "output_type": "stream",
          "name": "stderr",
          "text": [
            "Your max_length is set to 150, but your input_length is only 148. Since this is a summarization task, where outputs shorter than the input are typically wanted, you might consider decreasing max_length manually, e.g. summarizer('...', max_length=74)\n",
            "Your max_length is set to 150, but your input_length is only 108. Since this is a summarization task, where outputs shorter than the input are typically wanted, you might consider decreasing max_length manually, e.g. summarizer('...', max_length=54)\n",
            "Your max_length is set to 150, but your input_length is only 112. Since this is a summarization task, where outputs shorter than the input are typically wanted, you might consider decreasing max_length manually, e.g. summarizer('...', max_length=56)\n",
            "Your max_length is set to 150, but your input_length is only 103. Since this is a summarization task, where outputs shorter than the input are typically wanted, you might consider decreasing max_length manually, e.g. summarizer('...', max_length=51)\n",
            "Your max_length is set to 150, but your input_length is only 121. Since this is a summarization task, where outputs shorter than the input are typically wanted, you might consider decreasing max_length manually, e.g. summarizer('...', max_length=60)\n",
            "Your max_length is set to 150, but your input_length is only 112. Since this is a summarization task, where outputs shorter than the input are typically wanted, you might consider decreasing max_length manually, e.g. summarizer('...', max_length=56)\n",
            "Your max_length is set to 150, but your input_length is only 88. Since this is a summarization task, where outputs shorter than the input are typically wanted, you might consider decreasing max_length manually, e.g. summarizer('...', max_length=44)\n"
          ]
        }
      ]
    },
    {
      "cell_type": "code",
      "source": [
        "# Print the formatted summary with highlighted clauses\n",
        "print(\"Summarized Document with Highlighted Clauses:\\n\")\n",
        "print(summary)"
      ],
      "metadata": {
        "colab": {
          "base_uri": "https://localhost:8080/"
        },
        "id": "vhbNXKMBldkC",
        "outputId": "3495fd9b-be87-4c21-ea35-98e0d942ae97"
      },
      "execution_count": null,
      "outputs": [
        {
          "output_type": "stream",
          "name": "stdout",
          "text": [
            "Summarized Document with Highlighted Clauses:\n",
            "\n",
            "March 21, 2025.\n",
            "\n",
            "Sample Legal Agreement.\n",
            "\n",
            "Party 1 agrees to provide the following **Services** to Party 2: Service 1: Description of the service.\n",
            "\n",
            "Service 2: Description.\n",
            "\n",
            "of another service.\n",
            "\n",
            "Party 1 agrees to maintain the confidentiality of any Confidential In-formation shared during the term of this Agreement.\n",
            "\n",
            "Party 2 shall pay Party 1 the agreed-upon **Fees** for**Services**.\n",
            "\n",
            "Payment terms are net 30 days from invoice date.\n",
            "\n",
            "Failure to pay the **Fees** within the agreed terms will result in late fees and possible **Termination** of the Agreement.\n",
            "\n",
            "In case of a **Termination** , both parties shall promptly return all property, including any **Confidential Information**, to the disclosing party.\n",
            "\n",
            "Any dispute arising from or related to this Agreement shall first be resolved through good faith negotiations.\n",
            "\n",
            "If the dispute cannot be resolved, the parties agree to submit the dispute to mediation.\n",
            "\n",
            "The decision rendered by the arbitrator shall be final and binding on both parties.\n",
            "\n",
            "**Amendments** or modifications to this Agreement must be in writing and signed by both parties to be valid.\n",
            "\n",
            "No oral **Amendments** shall berecognized or enforceable.\n",
            "\n",
            "This Agreement constitutes the entire agreement between the parties and supersedes any previous agreements, whether oral or written, concerning the subject matter.\n",
            "\n",
            "Party 2’s obligations: Provide access to all necessary resources for Party 1.\n",
            "\n",
            "Make timely payment of all **Fees**.\n",
            "\n",
            "Comply with theterms of **Dispute Resolution** and**Arbitration** in case of disagreements.\n",
            "\n",
            "This Agreement shall be governed by and construed in accordance with the laws of the State of [State], without regard to its conflict of laws principles.\n",
            "\n",
            "r hereof.\n",
            "\n",
            ".\n",
            "\n",
            "\n"
          ]
        }
      ]
    }
  ]
}